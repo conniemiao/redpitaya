{
 "cells": [
  {
   "cell_type": "code",
   "execution_count": 2,
   "metadata": {},
   "outputs": [],
   "source": [
    "# Before beginning, must execute: \n",
    "# ssh root@rp-f06b95.local \"nohup systemctl start redpitaya_scpi &\"\n",
    "import sys\n",
    "import time\n",
    "import redpitaya_scpi as scpi\n",
    "rp = scpi.scpi('rp-f06b95.local')"
   ]
  },
  {
   "cell_type": "code",
   "execution_count": 2,
   "metadata": {},
   "outputs": [
    {
     "data": {
      "text/plain": [
       "18"
      ]
     },
     "execution_count": 2,
     "metadata": {},
     "output_type": "execute_result"
    }
   ],
   "source": [
    "rp.tx_txt('OUTPUT1:STATE ON')"
   ]
  },
  {
   "cell_type": "code",
   "execution_count": 6,
   "metadata": {},
   "outputs": [
    {
     "data": {
      "text/plain": [
       "22"
      ]
     },
     "execution_count": 6,
     "metadata": {},
     "output_type": "execute_result"
    }
   ],
   "source": [
    "rp.tx_txt('SOUR1:FREQ:FIX 10000')"
   ]
  },
  {
   "cell_type": "code",
   "execution_count": 58,
   "metadata": {},
   "outputs": [
    {
     "data": {
      "text/plain": [
       "16"
      ]
     },
     "execution_count": 58,
     "metadata": {},
     "output_type": "execute_result"
    }
   ],
   "source": [
    "wave_form = 'square'\n",
    "freq = 500\n",
    "ampl = 1\n",
    "\n",
    "rp.tx_txt('GEN:RST')\n",
    "rp.tx_txt('SOUR1:FUNC ' + str(wave_form).upper())\n",
    "rp.tx_txt('SOUR1:FREQ:FIX ' + str(freq))\n",
    "rp.tx_txt('SOUR1:VOLT ' + str(ampl))\n",
    "\n",
    "rp.tx_txt('SOUR1:BURS:NCYC 2') # num periods (CYCles) in burst\n",
    "rp.tx_txt('SOUR1:BURS:NOR 1000') # num repeated bursts (<-> how long the burst will show up on the scope)\n",
    "rp.tx_txt('OUTPUT1:STATE ON')\n",
    "\n",
    "rp.tx_txt('SOUR1:BURS:STAT ON') # turn on burst mode\n",
    "\n",
    "rp.tx_txt('SOUR1:TRIG:SOUR INT') # internal trigger source\n",
    "rp.tx_txt('SOUR1:TRIG:IMM') # trigger source 1 immediately\n"
   ]
  },
  {
   "cell_type": "code",
   "execution_count": 5,
   "metadata": {},
   "outputs": [
    {
     "data": {
      "text/plain": [
       "19"
      ]
     },
     "execution_count": 5,
     "metadata": {},
     "output_type": "execute_result"
    }
   ],
   "source": [
    "rp.tx_txt('OUTPUT1:STATE OFF')"
   ]
  },
  {
   "cell_type": "code",
   "execution_count": null,
   "metadata": {},
   "outputs": [],
   "source": []
  }
 ],
 "metadata": {
  "kernelspec": {
   "display_name": "Python 3",
   "language": "python",
   "name": "python3"
  },
  "language_info": {
   "codemirror_mode": {
    "name": "ipython",
    "version": 3
   },
   "file_extension": ".py",
   "mimetype": "text/x-python",
   "name": "python",
   "nbconvert_exporter": "python",
   "pygments_lexer": "ipython3",
   "version": "3.7.4"
  }
 },
 "nbformat": 4,
 "nbformat_minor": 2
}
